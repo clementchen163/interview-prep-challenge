{
 "cells": [
  {
   "cell_type": "markdown",
   "id": "d336a8de",
   "metadata": {},
   "source": [
    "## Part 2 ‐ Experiment and Metrics Design\n",
    "The neighboring cities of Gotham and Metropolis have complementary circadian rhythms: on\n",
    "weekdays, Ultimate Gotham is most active at night, and Ultimate Metropolis is most active\n",
    "during the day. On weekends, there is reasonable activity in both cities.\n",
    "However, a toll bridge, with a two way toll, between the two cities causes driver partners to tend\n",
    "to be exclusive to each city. The Ultimate managers of city operations for the two cities have\n",
    "proposed an experiment to encourage driver partners to be available in both cities, by\n",
    "reimbursing all toll costs."
   ]
  },
  {
   "cell_type": "markdown",
   "id": "fa3682d0",
   "metadata": {},
   "source": [
    "1) What would you choose as the key measure of success of this experiment in\n",
    "encouraging driver partners to serve both cities, and why would you choose this metric?\n"
   ]
  },
  {
   "cell_type": "markdown",
   "id": "6bda33a1",
   "metadata": {},
   "source": [
    "We make the assumption that without the toll, driver partners are more inclined to cross to the other city for work. If this is true, we should see a noticable increase in partners crossing at those times. So we should use number of partners crossing as a metric of success."
   ]
  },
  {
   "cell_type": "markdown",
   "id": "e79281e8",
   "metadata": {},
   "source": [
    "2) Describe a practical experiment you would design to compare the effectiveness of the\n",
    "proposed change in relation to the key measure of success. Please provide details on:\n",
    "\n",
    "a) how you will implement the experiment\n",
    "\n",
    "b) what statistical test(s) you will conduct to verify the significance of the\n",
    "observation\n",
    "\n",
    "c) how you would interpret the results and provide recommendations to the city\n",
    "operations team along with any caveats.\n"
   ]
  },
  {
   "cell_type": "markdown",
   "id": "fe38d87b",
   "metadata": {},
   "source": [
    "a) During the daytime on weekdays when Metropolis is most active, reimburse driver partners from Gotham so that partners from Gotham are encouraged to cross over to service the citizens Metropolis. \n",
    "\n",
    "During the nighttime on weekdays when Gotham is most active, reimburse driver partners from Metropolis so that partners from gotham are encouraged to cross over to service the citizens of Gotham.\n",
    "\n",
    "During the weekends a toll reduction both ways for partners can be in place but since both cities are equally as active, drivers will tend to stay in their respective cities.\n",
    "\n",
    "The measure of success would be an increase in the number of driver partners passing through toll free from Gotham to Metropolis during the daytime and vice versa during the night time."
   ]
  },
  {
   "cell_type": "markdown",
   "id": "2459580d",
   "metadata": {},
   "source": [
    "b) We can see if there is a significant increase in partners crossing over. We can do this by using 2 null hypothesis test\n",
    "1. H0: the average number of drivers crossing from Gotham to Metropolis when there *is no* toll during daytime weekdays is equal to the average number of drivers crossing from Gotham to Metropolis when there *is* a toll during daytime weekends\n",
    "\n",
    "2. H0 : the average number of drivers crossing from Metropolis to Gotham when there *is no* toll during nightime weekdays is equal to the average number of drivers crossing from Metropolis to Gotham when there *is* a toll during nighttime weekends\n",
    "\n",
    "We can say that there is a statistical difference if the corresponding t-statistics fall outside of 2 standard deviation from the mean."
   ]
  },
  {
   "cell_type": "markdown",
   "id": "ba9afb2b",
   "metadata": {},
   "source": [
    "c) We would interpret the results by seeing how far away the test statistic is from the mean. if it is significantly significant, by how many standard deviations?. The assumption we are making about the Ultimate managers is that they want to increase city revenue streams. Previously one of the revenue streams was the toll bridge and removing that would remove that revenue stream. However, the question to ask is whether the increased economic activity due to more drivers willing to drive people to another city would compensate the loss in revenue due to no toll being in place."
   ]
  }
 ],
 "metadata": {
  "kernelspec": {
   "display_name": "Python 3 (ipykernel)",
   "language": "python",
   "name": "python3"
  },
  "language_info": {
   "codemirror_mode": {
    "name": "ipython",
    "version": 3
   },
   "file_extension": ".py",
   "mimetype": "text/x-python",
   "name": "python",
   "nbconvert_exporter": "python",
   "pygments_lexer": "ipython3",
   "version": "3.9.16"
  }
 },
 "nbformat": 4,
 "nbformat_minor": 5
}
